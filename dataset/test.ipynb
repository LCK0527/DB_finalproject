{
 "cells": [
  {
   "cell_type": "code",
   "execution_count": 22,
   "metadata": {},
   "outputs": [
    {
     "name": "stdout",
     "output_type": "stream",
     "text": [
      "Connected to the database successfully!\n"
     ]
    }
   ],
   "source": [
    "import psycopg2\n",
    "\n",
    "# 連接到 PostgreSQL 資料庫\n",
    "try:\n",
    "    conn = psycopg2.connect(\n",
    "        dbname=\"DB_finalproject\",  # 替換為你的資料庫名稱\n",
    "        user=\"postgres\",           # 替換為你的 PostgreSQL 使用者名稱\n",
    "        password=\"your_password\",  # 替換為你的 PostgreSQL 密碼\n",
    "        host=\"localhost\",          # 這裡是本地伺服器，通常使用 localhost\n",
    "        port=\"5432\"                # PostgreSQL 的預設端口號\n",
    "    )\n",
    "    print(\"Connected to the database successfully!\")\n",
    "except Exception as e:\n",
    "    print(f\"Error: {e}\")\n"
   ]
  },
  {
   "cell_type": "code",
   "execution_count": 27,
   "metadata": {},
   "outputs": [
    {
     "name": "stdout",
     "output_type": "stream",
     "text": [
      "Error: connection already closed\n"
     ]
    }
   ],
   "source": [
    "try:\n",
    "    # 建立游標來執行 SQL 操作\n",
    "    cur = conn.cursor()\n",
    "\n",
    "    # 建立會員資料表格\n",
    "    create_table_query = '''\n",
    "    CREATE TABLE IF NOT EXISTS members (\n",
    "        member_id SERIAL PRIMARY KEY,   -- 自動生成的會員ID\n",
    "        name VARCHAR(100) NOT NULL,     -- 會員名字\n",
    "        phone_number VARCHAR(15) NOT NULL, -- 電話號碼\n",
    "        birthday DATE                   -- 會員生日\n",
    "    );\n",
    "    '''\n",
    "    cur.execute(create_table_query)\n",
    "    print(\"Table 'members' created successfully!\")\n",
    "\n",
    "    # 插入會員資料\n",
    "    insert_query = '''\n",
    "    INSERT INTO members (name, phone_number, birthday)\n",
    "    VALUES (%s, %s, %s);\n",
    "    '''\n",
    "    cur.execute(insert_query, ('Alice', '0912345678', '1990-01-01'))\n",
    "    cur.execute(insert_query, ('Bob', '0922334455', '1985-05-12'))\n",
    "\n",
    "    # 提交插入操作\n",
    "    conn.commit()\n",
    "    print(\"Data inserted successfully into 'members' table!\")\n",
    "\n",
    "except Exception as e:\n",
    "    print(f\"Error: {e}\")\n"
   ]
  },
  {
   "cell_type": "code",
   "execution_count": 33,
   "metadata": {},
   "outputs": [],
   "source": [
    "import psycopg2\n",
    "\n",
    "# 連接到 PostgreSQL 資料庫\n",
    "conn = psycopg2.connect(\n",
    "    dbname=\"DB_finalproject\",  # 資料庫名稱\n",
    "    user=\"postgres\",           # PostgreSQL 使用者名稱\n",
    "    password=\"your_password\",  # PostgreSQL 密碼\n",
    "    host=\"localhost\",          # 本地伺服器地址\n",
    "    port=\"5432\"                # PostgreSQL 預設端口號\n",
    ")\n",
    "\n",
    "# 建立游標\n",
    "cur = conn.cursor()\n"
   ]
  },
  {
   "cell_type": "code",
   "execution_count": 34,
   "metadata": {},
   "outputs": [
    {
     "name": "stdout",
     "output_type": "stream",
     "text": [
      "(1, 'Alice', '0912345678', datetime.date(1990, 1, 1), 'not_provided@example.com')\n",
      "(2, 'Bob', '0922334455', datetime.date(1985, 5, 12), 'not_provided@example.com')\n",
      "(3, 'Alice', '0912345678', datetime.date(1990, 1, 1), 'not_provided@example.com')\n",
      "(4, 'Bob', '0922334455', datetime.date(1985, 5, 12), 'not_provided@example.com')\n",
      "(5, 'Alice', '0912345678', datetime.date(1990, 1, 1), 'not_provided@example.com')\n",
      "(6, 'Bob', '0922334455', datetime.date(1985, 5, 12), 'not_provided@example.com')\n",
      "(7, 'Alice', '0912345678', datetime.date(1990, 1, 1), 'not_provided@example.com')\n",
      "(8, 'Bob', '0922334455', datetime.date(1985, 5, 12), 'not_provided@example.com')\n"
     ]
    }
   ],
   "source": [
    "try:\n",
    "    # 執行查詢操作\n",
    "    cur.execute(\"SELECT * FROM members;\")\n",
    "    rows = cur.fetchall()\n",
    "\n",
    "    # 輸出查詢結果\n",
    "    for row in rows:\n",
    "        print(row)\n",
    "\n",
    "except Exception as e:\n",
    "    print(f\"Error: {e}\")\n"
   ]
  },
  {
   "cell_type": "code",
   "execution_count": 35,
   "metadata": {},
   "outputs": [
    {
     "name": "stdout",
     "output_type": "stream",
     "text": [
      "Cursor closed.\n",
      "Connection closed.\n"
     ]
    }
   ],
   "source": [
    "# 關閉游標和連接\n",
    "try:\n",
    "    if 'cur' in locals() and not cur.closed:\n",
    "        cur.close()\n",
    "        print(\"Cursor closed.\")\n",
    "    if 'conn' in locals() and conn is not None:\n",
    "        conn.close()\n",
    "        print(\"Connection closed.\")\n",
    "except Exception as e:\n",
    "    print(f\"Error: {e}\")\n"
   ]
  },
  {
   "cell_type": "code",
   "execution_count": 31,
   "metadata": {},
   "outputs": [
    {
     "name": "stdout",
     "output_type": "stream",
     "text": [
      "Column 'email' added successfully!\n"
     ]
    }
   ],
   "source": [
    "import psycopg2\n",
    "\n",
    "# 連接到 PostgreSQL 資料庫\n",
    "try:\n",
    "    conn = psycopg2.connect(\n",
    "        dbname=\"DB_finalproject\",  # 替換為你的資料庫名稱\n",
    "        user=\"postgres\",           # 替換為你的 PostgreSQL 使用者名稱\n",
    "        password=\"your_password\",  # 替換為你的 PostgreSQL 密碼\n",
    "        host=\"localhost\",          # 本地伺服器地址\n",
    "        port=\"5432\"                # PostgreSQL 預設端口\n",
    "    )\n",
    "    cur = conn.cursor()\n",
    "\n",
    "    # 增加新的欄位 email 到 members 表格中\n",
    "    alter_table_query = '''\n",
    "    ALTER TABLE members\n",
    "    ADD COLUMN email VARCHAR(100) DEFAULT 'not_provided@example.com';\n",
    "    '''\n",
    "    cur.execute(alter_table_query)\n",
    "\n",
    "    # 提交更改\n",
    "    conn.commit()\n",
    "\n",
    "    print(\"Column 'email' added successfully!\")\n",
    "\n",
    "except Exception as e:\n",
    "    print(f\"Error: {e}\")\n",
    "finally:\n",
    "    # 關閉游標和連接\n",
    "    if 'cur' in locals() and not cur.closed:\n",
    "        cur.close()\n",
    "    if 'conn' in locals() and conn is not None:\n",
    "        conn.close()\n"
   ]
  }
 ],
 "metadata": {
  "kernelspec": {
   "display_name": "Python 3",
   "language": "python",
   "name": "python3"
  },
  "language_info": {
   "codemirror_mode": {
    "name": "ipython",
    "version": 3
   },
   "file_extension": ".py",
   "mimetype": "text/x-python",
   "name": "python",
   "nbconvert_exporter": "python",
   "pygments_lexer": "ipython3",
   "version": "3.9.6"
  }
 },
 "nbformat": 4,
 "nbformat_minor": 2
}
